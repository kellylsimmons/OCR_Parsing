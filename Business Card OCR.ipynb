{
 "cells": [
  {
   "cell_type": "code",
   "execution_count": null,
   "metadata": {},
   "outputs": [],
   "source": [
    "import re\n",
    "import requests\n",
    "from bs4 import BeautifulSoup\n",
    "import nltk\n"
   ]
  },
  {
   "cell_type": "code",
   "execution_count": null,
   "metadata": {},
   "outputs": [],
   "source": [
    "text1 = input('Please enter the results of the OCR here:')"
   ]
  },
  {
   "cell_type": "code",
   "execution_count": null,
   "metadata": {},
   "outputs": [],
   "source": [
    "text2 = input('Please enter the results of the OCR here:')"
   ]
  },
  {
   "cell_type": "code",
   "execution_count": null,
   "metadata": {},
   "outputs": [],
   "source": [
    "text3 = input('Please enter the results of the OCR here:')"
   ]
  },
  {
   "cell_type": "code",
   "execution_count": null,
   "metadata": {},
   "outputs": [],
   "source": [
    "def getPhoneNumber(text):\n",
    "    #Writing regex to grab the first 5 characters before the phone number to ensure we do not grab a fax number\n",
    "    phone_pattern = re.compile(r'((?:.{5})(?:\\+1\\s)?[\\(]?\\d{3}[\\)|-]\\s?\\d{3}[-|\\s]\\d{4})')\n",
    "    #matching the pattern and grabbing the second capture group which is the number\n",
    "    number =re.findall(phone_pattern, text)\n",
    "    #only selecting the numbers that are not labeled as a fax.\n",
    "    number = [x[5:] for x in number if 'Fax' not in x][0]\n",
    "    #cleaning the number by removing any non-digits\n",
    "    number = re.sub(r'\\D','',number)\n",
    "    return('Phone: '+number)"
   ]
  },
  {
   "cell_type": "code",
   "execution_count": null,
   "metadata": {},
   "outputs": [],
   "source": []
  },
  {
   "cell_type": "code",
   "execution_count": null,
   "metadata": {},
   "outputs": [],
   "source": [
    "def getEmail(text):\n",
    "    #simple regex for email limiting the size of each component to 255 out of habit as regex's are expensive. \n",
    "    emailPattern = re.compile(r'\\s((?:\\w|\\.){1,255}@\\w{1,255}\\.\\w{1,255})')\n",
    "    email = re.findall(emailPattern, text)\n",
    "    return('Email: '+email[0].strip())"
   ]
  },
  {
   "cell_type": "code",
   "execution_count": null,
   "metadata": {},
   "outputs": [],
   "source": [
    "getEmail(text3)"
   ]
  },
  {
   "cell_type": "code",
   "execution_count": null,
   "metadata": {},
   "outputs": [],
   "source": [
    "'''\n",
    "I wanted to use a package like NLTK or SPACY to extact the names,\n",
    "but both required specific large downloads and given that I cannot be sure of the system my code \n",
    "will be running on I implememted a solution using the Social Security Names.  I took a random guess and \n",
    "picked 1980 as the best year to compare for given names and then used a regex to extact the last name.  If \n",
    "this was going to be used in the wild I would want to download a more comprehensive name corpus or train an \n",
    "ML model\n",
    "'''\n",
    "\n",
    "last = requests.get('https://www2.census.gov/topics/genealogy/1990surnames/dist.all.last?#').text\n",
    "first_f = requests.get('https://www2.census.gov/topics/genealogy/1990surnames/dist.female.first?#').text\n",
    "first_m = requests.get('https://www2.census.gov/topics/genealogy/1990surnames/dist.male.first?#').text\n",
    "first = ' '.join([first_f, first_m])\n",
    "first = re.sub('\\d',' ', first)"
   ]
  },
  {
   "cell_type": "code",
   "execution_count": null,
   "metadata": {},
   "outputs": [],
   "source": [
    "tokens = text3.split(' ')\n",
    "for word in tokens:\n",
    "    if (word.upper() in first) & :\n"
   ]
  },
  {
   "cell_type": "markdown",
   "metadata": {},
   "source": [
    "# Code With Widget"
   ]
  },
  {
   "cell_type": "code",
   "execution_count": 1,
   "metadata": {},
   "outputs": [],
   "source": [
    "import ipywidgets as wi\n",
    "import nltk\n",
    "import re"
   ]
  },
  {
   "cell_type": "code",
   "execution_count": 6,
   "metadata": {},
   "outputs": [
    {
     "data": {
      "application/vnd.jupyter.widget-view+json": {
       "model_id": "b3d3ce890aa44abbb4dd16adafc6c908",
       "version_major": 2,
       "version_minor": 0
      },
      "text/plain": [
       "Textarea(value='', description='Enter results from OCR here:', layout=Layout(height='150px', width='70%'), sty…"
      ]
     },
     "metadata": {},
     "output_type": "display_data"
    }
   ],
   "source": [
    "style = {'description_width': 'initial'}\n",
    "test = wi.Textarea(description='Enter results from OCR here:',\n",
    "                   layout=wi.Layout(width='70%', height='150px'),\n",
    "                   style= style)\n",
    "test"
   ]
  },
  {
   "cell_type": "code",
   "execution_count": 7,
   "metadata": {},
   "outputs": [],
   "source": [
    "data = test.value"
   ]
  },
  {
   "cell_type": "code",
   "execution_count": 8,
   "metadata": {},
   "outputs": [],
   "source": [
    "def parse_person(line):\n",
    "    names = []\n",
    "    #using the NTLK parts of speach model to check for people.\n",
    "    for i, chunk in enumerate(nltk.ne_chunk(nltk.pos_tag(nltk.word_tokenize(line)))):\n",
    "        if type(chunk) == nltk.tree.Tree:\n",
    "            if chunk.label() == 'PERSON':\n",
    "                names.append(chunk[0][0])\n",
    "    '''\n",
    "    The above code works great for english names.  However it struggled to identify the non-anglo surname 'Haung'\n",
    "    therefore I added this code to grab the second word after an NLTK identified person.  \n",
    "    to solve the non-anglo problem effecently you would want to retrain a word net underling NLTK to include \n",
    "    a more comprehensive list of global names. \n",
    "    \n",
    "    A potential bug in this code is that it would extract a company such as \"Kellys Carpets\" as a name.\n",
    "    '''\n",
    "    if len(names)==1:\n",
    "        names.append(line.split(' ')[i])\n",
    "    return ' '.join(names)\n",
    "        \n",
    "def getName(data):\n",
    "    data = data.split('\\n')\n",
    "    for line in data:\n",
    "        person = parse_person(line)\n",
    "        if person:\n",
    "            return('Name: '+person)    \n",
    "        \n",
    "def getPhoneNumber(text):\n",
    "    #removing the newline character to allow for the functions to be used in both the GUI and non-GUI code\n",
    "    text = text.replace('\\n','')\n",
    "    #Writing regex to grab the first 5 characters before the phone number to ensure we do not grab a fax number\n",
    "    phone_pattern = re.compile(r'((?:.{5})(?:\\+1\\s)?[\\(]?\\d{3}[\\)|-]\\s?\\d{3}[-|\\s]\\d{4})')\n",
    "    #matching the pattern and grabbing the second capture group which is the number\n",
    "    number =re.findall(phone_pattern, text)\n",
    "    #only selecting the numbers that are not labeled as a fax.\n",
    "    number = [x[5:] for x in number if 'Fax' not in x][0]\n",
    "    #cleaning the number by removing any non-digits\n",
    "    number = re.sub(r'\\D','',number)\n",
    "    return('Phone: '+number)\n",
    "\n",
    "\n",
    "def getEmail(text):\n",
    "    #removing the newline character to allow for the functions to be used in both the GUI and non-GUI code\n",
    "    text = text.replace('\\n',' ')\n",
    "    #simple regex for email limiting the size of each component to 255 out of habit as regex's are expensive. \n",
    "    emailPattern = re.compile(r'\\s((?:\\w|\\.){1,255}@\\w{1,255}\\.\\w{1,255})')\n",
    "    email = re.findall(emailPattern, text)\n",
    "    \n",
    "    return('Email: '+email[0].strip())"
   ]
  },
  {
   "cell_type": "code",
   "execution_count": 9,
   "metadata": {},
   "outputs": [
    {
     "name": "stdout",
     "output_type": "stream",
     "text": [
      "Name: Arthur Wilson\n",
      "Phone: 17035551259\n",
      "Email: awilson@abctech.com\n"
     ]
    }
   ],
   "source": [
    "print(getName(data))\n",
    "print(getPhoneNumber(data))\n",
    "print(getEmail(data))"
   ]
  },
  {
   "cell_type": "code",
   "execution_count": null,
   "metadata": {},
   "outputs": [],
   "source": []
  }
 ],
 "metadata": {
  "kernelspec": {
   "display_name": "Python 3",
   "language": "python",
   "name": "python3"
  },
  "language_info": {
   "codemirror_mode": {
    "name": "ipython",
    "version": 3
   },
   "file_extension": ".py",
   "mimetype": "text/x-python",
   "name": "python",
   "nbconvert_exporter": "python",
   "pygments_lexer": "ipython3",
   "version": "3.7.1"
  }
 },
 "nbformat": 4,
 "nbformat_minor": 2
}
