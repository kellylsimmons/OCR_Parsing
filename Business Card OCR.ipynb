{
 "cells": [
  {
   "cell_type": "code",
   "execution_count": 222,
   "metadata": {},
   "outputs": [],
   "source": [
    "import re\n",
    "import requests\n",
    "from bs4 import BeautifulSoup\n"
   ]
  },
  {
   "cell_type": "code",
   "execution_count": 135,
   "metadata": {},
   "outputs": [
    {
     "name": "stdout",
     "output_type": "stream",
     "text": [
      "Please enter the results of the OCR here:ASYMMETRIK LTD Mike Smith Senior Software Engineer (410)555-1234 msmith@asymmetrik.com\n"
     ]
    }
   ],
   "source": [
    "text1 = input('Please enter the results of the OCR here:')"
   ]
  },
  {
   "cell_type": "code",
   "execution_count": 136,
   "metadata": {},
   "outputs": [
    {
     "name": "stdout",
     "output_type": "stream",
     "text": [
      "Please enter the results of the OCR here:Foobar Technologies Analytic Developer Lisa Haung 1234 Sentry Road Columbia, MD 12345 Phone: 410-555-1234 Fax: 410-555-4321 lisa.haung@foobartech.com\n"
     ]
    }
   ],
   "source": [
    "text2 = input('Please enter the results of the OCR here:')"
   ]
  },
  {
   "cell_type": "code",
   "execution_count": 137,
   "metadata": {},
   "outputs": [
    {
     "name": "stdout",
     "output_type": "stream",
     "text": [
      "Please enter the results of the OCR here:Arthur Wilson Software Engineer Decision & Security Technologies ABC Technologies 123 North 11th Street Suite 229 Arlington, VA 22209 Tel: +1 (703) 555-1259 Fax: +1 (703) 555-1200 awilson@abctech.com\n"
     ]
    }
   ],
   "source": [
    "text3 = input('Please enter the results of the OCR here:')"
   ]
  },
  {
   "cell_type": "code",
   "execution_count": 133,
   "metadata": {},
   "outputs": [],
   "source": [
    "def getPhoneNumber(text):\n",
    "    #Writing regex to grab the first 5 characters before the phone number to ensure we do not grab a fax number\n",
    "    phone_pattern = re.compile(r'((?:.{5})(?:\\+1\\s)?[\\(]?\\d{3}[\\)|-]\\s?\\d{3}[-|\\s]\\d{4})')\n",
    "    #matching the pattern and grabbing the second capture group which is the number\n",
    "    number =re.findall(phone_pattern, text)\n",
    "    #only selecting the numbers that are not labeled as a fax.\n",
    "    number = [x[5:] for x in number if 'Fax' not in x][0]\n",
    "    #cleaning the number by removing any non-digits\n",
    "    number = re.sub(r'\\D','',number)\n",
    "    return('Phone: '+number)"
   ]
  },
  {
   "cell_type": "code",
   "execution_count": 140,
   "metadata": {},
   "outputs": [
    {
     "data": {
      "text/plain": [
       "'Phone: 17035551259'"
      ]
     },
     "execution_count": 140,
     "metadata": {},
     "output_type": "execute_result"
    }
   ],
   "source": []
  },
  {
   "cell_type": "code",
   "execution_count": 143,
   "metadata": {},
   "outputs": [],
   "source": [
    "def getEmail(text):\n",
    "    #simple regex for email limiting the size of each component to 255 out of habit as regex's are expensive. \n",
    "    emailPattern = re.compile(r'\\s((?:\\w|\\.){1,255}@\\w{1,255}\\.\\w{1,255})')\n",
    "    email = re.findall(emailPattern, text)\n",
    "    return('Email: '+email[0].strip())"
   ]
  },
  {
   "cell_type": "code",
   "execution_count": 146,
   "metadata": {},
   "outputs": [
    {
     "data": {
      "text/plain": [
       "'Email: awilson@abctech.com'"
      ]
     },
     "execution_count": 146,
     "metadata": {},
     "output_type": "execute_result"
    }
   ],
   "source": [
    "getEmail(text3)"
   ]
  },
  {
   "cell_type": "code",
   "execution_count": 252,
   "metadata": {},
   "outputs": [],
   "source": [
    "'''\n",
    "I wanted to use a package like NLTK or SPACY to extact the names,\n",
    "but both required specific large downloads and given that I cannot be sure of the system my code \n",
    "will be running on I implememted a solution using the Social Security Names.  I took a random guess and \n",
    "picked 1980 as the best year to compare for given names and then used a regex to extact the last name.  If \n",
    "this was going to be used in the wild I would want to download a more comprehensive name corpus or train an \n",
    "ML model\n",
    "'''\n",
    "\n",
    "last = requests.get('https://www2.census.gov/topics/genealogy/1990surnames/dist.all.last?#').text\n",
    "first_f = requests.get('https://www2.census.gov/topics/genealogy/1990surnames/dist.female.first?#').text\n",
    "first_m = requests.get('https://www2.census.gov/topics/genealogy/1990surnames/dist.male.first?#').text\n",
    "first = ' '.join([first_f, first_m])\n",
    "first = re.sub('\\d',' ', first)"
   ]
  },
  {
   "cell_type": "code",
   "execution_count": 266,
   "metadata": {},
   "outputs": [
    {
     "name": "stdout",
     "output_type": "stream",
     "text": [
      "Arthur\n",
      "Wilson\n",
      "VA\n"
     ]
    }
   ],
   "source": [
    "tokens = text3.split(' ')\n",
    "for word in tokens:\n",
    "    if (word.upper() in first) & :\n"
   ]
  },
  {
   "cell_type": "markdown",
   "metadata": {},
   "source": [
    "# Trying to Be Fancy"
   ]
  },
  {
   "cell_type": "code",
   "execution_count": 178,
   "metadata": {},
   "outputs": [
    {
     "name": "stdout",
     "output_type": "stream",
     "text": [
      "Collecting nameparser\n",
      "  Downloading https://files.pythonhosted.org/packages/45/5e/25271ea377052c7fc0d9ba63806aa2418cae6e97f84d6d0a8b29f97c9f7b/nameparser-1.0.2-py2.py3-none-any.whl\n",
      "Installing collected packages: nameparser\n",
      "Successfully installed nameparser-1.0.2\n"
     ]
    }
   ],
   "source": [
    "import nltk\n",
    "!pip install nameparser\n",
    "from nameparser.parser import HumanName"
   ]
  },
  {
   "cell_type": "code",
   "execution_count": 179,
   "metadata": {},
   "outputs": [
    {
     "data": {
      "text/plain": [
       "<HumanName : [\n",
       "\ttitle: '' \n",
       "\tfirst: 'ASYMMETRIK' \n",
       "\tmiddle: 'LTD Mike Smith Senior Software' \n",
       "\tlast: 'Engineer' \n",
       "\tsuffix: ''\n",
       "\tnickname: ''\n",
       "]>"
      ]
     },
     "execution_count": 179,
     "metadata": {},
     "output_type": "execute_result"
    }
   ],
   "source": [
    "HumanName('ASYMMETRIK LTD Mike Smith Senior Software Engineer')"
   ]
  },
  {
   "cell_type": "code",
   "execution_count": 212,
   "metadata": {},
   "outputs": [
    {
     "data": {
      "text/plain": [
       "[[('ASYMMETRIK', 'NNP'),\n",
       "  ('LTD', 'NNP'),\n",
       "  ('Mike', 'NNP'),\n",
       "  ('Smith', 'NNP'),\n",
       "  ('Senior', 'NNP'),\n",
       "  ('Software', 'NNP'),\n",
       "  ('Engineer', 'NNP'),\n",
       "  ('(', '('),\n",
       "  ('410', 'CD'),\n",
       "  (')', ')'),\n",
       "  ('555-1234', 'JJ'),\n",
       "  ('msmith', 'NN'),\n",
       "  ('@', 'NNP'),\n",
       "  ('asymmetrik.com', 'NN')]]"
      ]
     },
     "execution_count": 212,
     "metadata": {},
     "output_type": "execute_result"
    }
   ],
   "source": [
    "sentences = nltk.sent_tokenize(text1)\n",
    "#sentences = [nltk.word_tokenize(sent.lower()) for sent in sentences]\n",
    "sentences = [nltk.word_tokenize(sent) for sent in sentences]\n",
    "sentences = [nltk.pos_tag(sent) for sent in sentences]\n",
    "sentences"
   ]
  },
  {
   "cell_type": "code",
   "execution_count": 213,
   "metadata": {},
   "outputs": [
    {
     "name": "stdout",
     "output_type": "stream",
     "text": [
      "<class 'nltk.tree.Tree'>\n",
      "(ORGANIZATION ASYMMETRIK/NNP) ORGANIZATION\n",
      "<class 'nltk.tree.Tree'>\n",
      "(ORGANIZATION\n",
      "  LTD/NNP\n",
      "  Mike/NNP\n",
      "  Smith/NNP\n",
      "  Senior/NNP\n",
      "  Software/NNP\n",
      "  Engineer/NNP) ORGANIZATION\n",
      "<class 'tuple'>\n",
      "<class 'tuple'>\n",
      "<class 'tuple'>\n",
      "<class 'tuple'>\n",
      "<class 'tuple'>\n",
      "<class 'tuple'>\n",
      "<class 'tuple'>\n"
     ]
    }
   ],
   "source": [
    "for tagged_sentence in sentences:\n",
    "    for chunk in nltk.ne_chunk(tagged_sentence):\n",
    "        print(type(chunk))\n",
    "        if type(chunk) == nltk.tree.Tree:\n",
    "            print(chunk, chunk.label())\n",
    "            '''\n",
    "            if chunk.label() == 'PERSON':\n",
    "                print(chunk)\n",
    "                '''"
   ]
  },
  {
   "cell_type": "code",
   "execution_count": 165,
   "metadata": {},
   "outputs": [
    {
     "data": {
      "text/plain": [
       "[[('Arthur', 'NNP'),\n",
       "  ('Wilson', 'NNP'),\n",
       "  ('Software', 'NNP'),\n",
       "  ('Engineer', 'NNP'),\n",
       "  ('Decision', 'NNP'),\n",
       "  ('&', 'CC'),\n",
       "  ('Security', 'NNP'),\n",
       "  ('Technologies', 'NNPS'),\n",
       "  ('ABC', 'NNP'),\n",
       "  ('Technologies', 'NNPS'),\n",
       "  ('123', 'CD'),\n",
       "  ('North', 'NNP'),\n",
       "  ('11th', 'CD'),\n",
       "  ('Street', 'NNP'),\n",
       "  ('Suite', 'NNP'),\n",
       "  ('229', 'CD'),\n",
       "  ('Arlington', 'NNP'),\n",
       "  (',', ','),\n",
       "  ('VA', 'NNP'),\n",
       "  ('22209', 'CD'),\n",
       "  ('Tel', 'NNP'),\n",
       "  (':', ':'),\n",
       "  ('+1', 'NN'),\n",
       "  ('(', '('),\n",
       "  ('703', 'CD'),\n",
       "  (')', ')'),\n",
       "  ('555-1259', 'JJ'),\n",
       "  ('Fax', 'NN'),\n",
       "  (':', ':'),\n",
       "  ('+1', 'NN'),\n",
       "  ('(', '('),\n",
       "  ('703', 'CD'),\n",
       "  (')', ')'),\n",
       "  ('555-1200', 'CD'),\n",
       "  ('awilson', 'NN'),\n",
       "  ('@', 'CD'),\n",
       "  ('abctech.com', 'NN')]]"
      ]
     },
     "execution_count": 165,
     "metadata": {},
     "output_type": "execute_result"
    }
   ],
   "source": [
    "sentences"
   ]
  },
  {
   "cell_type": "code",
   "execution_count": 216,
   "metadata": {},
   "outputs": [
    {
     "name": "stdout",
     "output_type": "stream",
     "text": [
      "Collecting spacy\n",
      "  Downloading https://files.pythonhosted.org/packages/50/31/1496f44c12160282a93c6d36eff5527b89dbc0e6389cf1f4aeeb52caecee/spacy-2.0.18-cp37-cp37m-win_amd64.whl (24.6MB)\n",
      "Collecting plac<1.0.0,>=0.9.6 (from spacy)\n",
      "  Downloading https://files.pythonhosted.org/packages/9e/9b/62c60d2f5bc135d2aa1d8c8a86aaf84edb719a59c7f11a4316259e61a298/plac-0.9.6-py2.py3-none-any.whl\n",
      "Requirement already satisfied: numpy>=1.15.0 in c:\\users\\kelly\\anaconda3\\lib\\site-packages (from spacy) (1.15.4)\n",
      "Collecting regex==2018.01.10 (from spacy)\n",
      "  Downloading https://files.pythonhosted.org/packages/3d/22/751518d3f4c22ea23129ffc28d3408d5d4633df460256c54863970f23e1a/regex-2018.01.10-cp37-none-win_amd64.whl (264kB)\n",
      "Collecting ujson>=1.35 (from spacy)\n",
      "  Downloading https://files.pythonhosted.org/packages/16/c4/79f3409bc710559015464e5f49b9879430d8f87498ecdc335899732e5377/ujson-1.35.tar.gz (192kB)\n",
      "Collecting murmurhash<1.1.0,>=0.28.0 (from spacy)\n",
      "  Downloading https://files.pythonhosted.org/packages/4f/7b/d77bc9bb101e113884b2d70a118e7ec8dcc9846a35a0e10d47ca37acdcbf/murmurhash-1.0.2-cp37-cp37m-win_amd64.whl\n",
      "Collecting preshed<2.1.0,>=2.0.1 (from spacy)\n",
      "  Downloading https://files.pythonhosted.org/packages/b8/e3/0ec374ed2b5046073e735b6e349d759e795fc2e3c83306fbef88efa01921/preshed-2.0.1-cp37-cp37m-win_amd64.whl (73kB)\n",
      "Requirement already satisfied: requests<3.0.0,>=2.13.0 in c:\\users\\kelly\\anaconda3\\lib\\site-packages (from spacy) (2.21.0)\n",
      "Collecting dill<0.3,>=0.2 (from spacy)\n",
      "  Downloading https://files.pythonhosted.org/packages/fe/42/bfe2e0857bc284cbe6a011d93f2a9ad58a22cb894461b199ae72cfef0f29/dill-0.2.9.tar.gz (150kB)\n",
      "Collecting cymem<2.1.0,>=2.0.2 (from spacy)\n",
      "  Downloading https://files.pythonhosted.org/packages/73/26/fb9d708e2570bb48f35ce8b6f796ece9b0805191eb11545697a4e9fe06bc/cymem-2.0.2-cp37-cp37m-win_amd64.whl\n",
      "Collecting thinc<6.13.0,>=6.12.1 (from spacy)\n",
      "  Downloading https://files.pythonhosted.org/packages/cf/a1/80aabceed94fe348f8ff0a14b89bfbdce7478783c4bba481b96787c05375/thinc-6.12.1-cp37-cp37m-win_amd64.whl (1.8MB)\n",
      "Requirement already satisfied: certifi>=2017.4.17 in c:\\users\\kelly\\anaconda3\\lib\\site-packages (from requests<3.0.0,>=2.13.0->spacy) (2018.11.29)\n",
      "Requirement already satisfied: urllib3<1.25,>=1.21.1 in c:\\users\\kelly\\anaconda3\\lib\\site-packages (from requests<3.0.0,>=2.13.0->spacy) (1.24.1)\n",
      "Requirement already satisfied: chardet<3.1.0,>=3.0.2 in c:\\users\\kelly\\anaconda3\\lib\\site-packages (from requests<3.0.0,>=2.13.0->spacy) (3.0.4)\n",
      "Requirement already satisfied: idna<2.9,>=2.5 in c:\\users\\kelly\\anaconda3\\lib\\site-packages (from requests<3.0.0,>=2.13.0->spacy) (2.8)\n",
      "Requirement already satisfied: six<2.0.0,>=1.10.0 in c:\\users\\kelly\\anaconda3\\lib\\site-packages (from thinc<6.13.0,>=6.12.1->spacy) (1.12.0)\n",
      "Requirement already satisfied: msgpack<0.6.0,>=0.5.6 in c:\\users\\kelly\\anaconda3\\lib\\site-packages (from thinc<6.13.0,>=6.12.1->spacy) (0.5.6)\n",
      "Requirement already satisfied: tqdm<5.0.0,>=4.10.0 in c:\\users\\kelly\\anaconda3\\lib\\site-packages (from thinc<6.13.0,>=6.12.1->spacy) (4.28.1)\n",
      "Requirement already satisfied: wrapt<1.11.0,>=1.10.0 in c:\\users\\kelly\\anaconda3\\lib\\site-packages (from thinc<6.13.0,>=6.12.1->spacy) (1.10.11)\n",
      "Requirement already satisfied: cytoolz<0.10,>=0.9.0 in c:\\users\\kelly\\anaconda3\\lib\\site-packages (from thinc<6.13.0,>=6.12.1->spacy) (0.9.0.1)\n",
      "Collecting msgpack-numpy<0.4.4 (from thinc<6.13.0,>=6.12.1->spacy)\n",
      "  Downloading https://files.pythonhosted.org/packages/ad/45/464be6da85b5ca893cfcbd5de3b31a6710f636ccb8521b17bd4110a08d94/msgpack_numpy-0.4.3.2-py2.py3-none-any.whl\n",
      "Requirement already satisfied: toolz>=0.8.0 in c:\\users\\kelly\\anaconda3\\lib\\site-packages (from cytoolz<0.10,>=0.9.0->thinc<6.13.0,>=6.12.1->spacy) (0.9.0)\n",
      "Building wheels for collected packages: ujson, dill\n",
      "  Running setup.py bdist_wheel for ujson: started\n",
      "  Running setup.py bdist_wheel for ujson: finished with status 'error'\n",
      "  Complete output from command C:\\Users\\Kelly\\Anaconda3\\python.exe -u -c \"import setuptools, tokenize;__file__='C:\\\\Users\\\\Kelly\\\\AppData\\\\Local\\\\Temp\\\\pip-install-bnqs0s6g\\\\ujson\\\\setup.py';f=getattr(tokenize, 'open', open)(__file__);code=f.read().replace('\\r\\n', '\\n');f.close();exec(compile(code, __file__, 'exec'))\" bdist_wheel -d C:\\Users\\Kelly\\AppData\\Local\\Temp\\pip-wheel-f17491sa --python-tag cp37:\n",
      "  Warning: 'classifiers' should be a list, got type 'filter'\n",
      "  running bdist_wheel\n",
      "  running build\n",
      "  running build_ext\n",
      "  building 'ujson' extension\n",
      "  error: Microsoft Visual C++ 14.0 is required. Get it with \"Microsoft Visual C++ Build Tools\": https://visualstudio.microsoft.com/downloads/\n",
      "  \n",
      "  ----------------------------------------\n",
      "  Running setup.py clean for ujson\n",
      "  Running setup.py bdist_wheel for dill: started\n",
      "  Running setup.py bdist_wheel for dill: finished with status 'done'\n",
      "  Stored in directory: C:\\Users\\Kelly\\AppData\\Local\\pip\\Cache\\wheels\\5b\\d7\\0f\\e58eae695403de585269f4e4a94e0cd6ca60ec0c202936fa4a\n",
      "Successfully built dill\n",
      "Failed to build ujson\n",
      "Installing collected packages: plac, regex, ujson, murmurhash, cymem, preshed, dill, msgpack-numpy, thinc, spacy\n",
      "  Running setup.py install for ujson: started\n",
      "    Running setup.py install for ujson: finished with status 'error'\n",
      "    Complete output from command C:\\Users\\Kelly\\Anaconda3\\python.exe -u -c \"import setuptools, tokenize;__file__='C:\\\\Users\\\\Kelly\\\\AppData\\\\Local\\\\Temp\\\\pip-install-bnqs0s6g\\\\ujson\\\\setup.py';f=getattr(tokenize, 'open', open)(__file__);code=f.read().replace('\\r\\n', '\\n');f.close();exec(compile(code, __file__, 'exec'))\" install --record C:\\Users\\Kelly\\AppData\\Local\\Temp\\pip-record-vjchpzjh\\install-record.txt --single-version-externally-managed --compile:\n",
      "    Warning: 'classifiers' should be a list, got type 'filter'\n",
      "    running install\n",
      "    running build\n",
      "    running build_ext\n",
      "    building 'ujson' extension\n",
      "    error: Microsoft Visual C++ 14.0 is required. Get it with \"Microsoft Visual C++ Build Tools\": https://visualstudio.microsoft.com/downloads/\n",
      "    \n",
      "    ----------------------------------------\n"
     ]
    },
    {
     "name": "stderr",
     "output_type": "stream",
     "text": [
      "  Failed building wheel for ujson\n",
      "Command \"C:\\Users\\Kelly\\Anaconda3\\python.exe -u -c \"import setuptools, tokenize;__file__='C:\\\\Users\\\\Kelly\\\\AppData\\\\Local\\\\Temp\\\\pip-install-bnqs0s6g\\\\ujson\\\\setup.py';f=getattr(tokenize, 'open', open)(__file__);code=f.read().replace('\\r\\n', '\\n');f.close();exec(compile(code, __file__, 'exec'))\" install --record C:\\Users\\Kelly\\AppData\\Local\\Temp\\pip-record-vjchpzjh\\install-record.txt --single-version-externally-managed --compile\" failed with error code 1 in C:\\Users\\Kelly\\AppData\\Local\\Temp\\pip-install-bnqs0s6g\\ujson\\\n"
     ]
    },
    {
     "ename": "ModuleNotFoundError",
     "evalue": "No module named 'spacy'",
     "output_type": "error",
     "traceback": [
      "\u001b[1;31m---------------------------------------------------------------------------\u001b[0m",
      "\u001b[1;31mModuleNotFoundError\u001b[0m                       Traceback (most recent call last)",
      "\u001b[1;32m<ipython-input-216-ed8e0b5a42da>\u001b[0m in \u001b[0;36m<module>\u001b[1;34m\u001b[0m\n\u001b[0;32m      1\u001b[0m \u001b[0mget_ipython\u001b[0m\u001b[1;33m(\u001b[0m\u001b[1;33m)\u001b[0m\u001b[1;33m.\u001b[0m\u001b[0msystem\u001b[0m\u001b[1;33m(\u001b[0m\u001b[1;34m'pip install spacy'\u001b[0m\u001b[1;33m)\u001b[0m\u001b[1;33m\u001b[0m\u001b[1;33m\u001b[0m\u001b[0m\n\u001b[1;32m----> 2\u001b[1;33m \u001b[1;32mfrom\u001b[0m \u001b[0mspacy\u001b[0m\u001b[1;33m.\u001b[0m\u001b[0men\u001b[0m \u001b[1;32mimport\u001b[0m \u001b[0mEnglish\u001b[0m\u001b[1;33m\u001b[0m\u001b[1;33m\u001b[0m\u001b[0m\n\u001b[0m\u001b[0;32m      3\u001b[0m \u001b[0mparser\u001b[0m \u001b[1;33m=\u001b[0m \u001b[0mEnglish\u001b[0m\u001b[1;33m(\u001b[0m\u001b[1;33m)\u001b[0m\u001b[1;33m\u001b[0m\u001b[1;33m\u001b[0m\u001b[0m\n",
      "\u001b[1;31mModuleNotFoundError\u001b[0m: No module named 'spacy'"
     ]
    }
   ],
   "source": [
    "!pip install spacy\n",
    "from spacy.en import English\n",
    "parser = English()"
   ]
  },
  {
   "cell_type": "code",
   "execution_count": 217,
   "metadata": {},
   "outputs": [
    {
     "ename": "ModuleNotFoundError",
     "evalue": "No module named 'spacy'",
     "output_type": "error",
     "traceback": [
      "\u001b[1;31m---------------------------------------------------------------------------\u001b[0m",
      "\u001b[1;31mModuleNotFoundError\u001b[0m                       Traceback (most recent call last)",
      "\u001b[1;32m<ipython-input-217-76a01d9c502b>\u001b[0m in \u001b[0;36m<module>\u001b[1;34m\u001b[0m\n\u001b[1;32m----> 1\u001b[1;33m \u001b[1;32mimport\u001b[0m \u001b[0mspacy\u001b[0m\u001b[1;33m\u001b[0m\u001b[1;33m\u001b[0m\u001b[0m\n\u001b[0m",
      "\u001b[1;31mModuleNotFoundError\u001b[0m: No module named 'spacy'"
     ]
    }
   ],
   "source": [
    "import spacy"
   ]
  },
  {
   "cell_type": "code",
   "execution_count": null,
   "metadata": {},
   "outputs": [],
   "source": []
  }
 ],
 "metadata": {
  "kernelspec": {
   "display_name": "Python 3",
   "language": "python",
   "name": "python3"
  },
  "language_info": {
   "codemirror_mode": {
    "name": "ipython",
    "version": 3
   },
   "file_extension": ".py",
   "mimetype": "text/x-python",
   "name": "python",
   "nbconvert_exporter": "python",
   "pygments_lexer": "ipython3",
   "version": "3.7.1"
  }
 },
 "nbformat": 4,
 "nbformat_minor": 2
}
