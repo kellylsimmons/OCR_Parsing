{
 "cells": [
  {
   "cell_type": "code",
   "execution_count": 8,
   "metadata": {},
   "outputs": [],
   "source": [
    "import re\n",
    "import requests\n",
    "import nltk"
   ]
  },
  {
   "cell_type": "code",
   "execution_count": 2,
   "metadata": {},
   "outputs": [
    {
     "name": "stdout",
     "output_type": "stream",
     "text": [
      "Please enter the results of the OCR here:ASYMMETRIK LTD Mike Smith Senior Software Engineer (410)555-1234 msmith@asymmetrik.com\n"
     ]
    }
   ],
   "source": [
    "text1 = input('Please enter the results of the OCR here:')"
   ]
  },
  {
   "cell_type": "code",
   "execution_count": 3,
   "metadata": {},
   "outputs": [
    {
     "name": "stdout",
     "output_type": "stream",
     "text": [
      "Please enter the results of the OCR here:Foobar Technologies Analytic Developer Lisa Haung 1234 Sentry Road Columbia, MD 12345 Phone: 410-555-1234 Fax: 410-555-4321 lisa.haung@foobartech.com\n"
     ]
    }
   ],
   "source": [
    "text2 = input('Please enter the results of the OCR here:')"
   ]
  },
  {
   "cell_type": "code",
   "execution_count": 4,
   "metadata": {},
   "outputs": [
    {
     "name": "stdout",
     "output_type": "stream",
     "text": [
      "Please enter the results of the OCR here:Arthur Wilson Software Engineer Decision & Security Technologies ABC Technologies 123 North 11th Street Suite 229 Arlington, VA 22209 Tel: +1 (703) 555-1259 Fax: +1 (703) 555-1200 awilson@abctech.com\n"
     ]
    }
   ],
   "source": [
    "text3 = input('Please enter the results of the OCR here:')"
   ]
  },
  {
   "cell_type": "code",
   "execution_count": 9,
   "metadata": {},
   "outputs": [],
   "source": [
    "def getPhoneNumber(text):\n",
    "    #Writing regex to grab the first 5 characters before the phone number to ensure we do not grab a fax number\n",
    "    phone_pattern = re.compile(r'((?:.{5})(?:\\+1\\s)?[\\(]?\\d{3}[\\)|-]\\s?\\d{3}[-|\\s]\\d{4})')\n",
    "    #matching the pattern and grabbing the second capture group which is the number\n",
    "    number =re.findall(phone_pattern, text)\n",
    "    #only selecting the numbers that are not labeled as a fax.\n",
    "    number = [x[5:] for x in number if 'Fax' not in x][0]\n",
    "    #cleaning the number by removing any non-digits\n",
    "    number = re.sub(r'\\D','',number)\n",
    "    return('Phone: '+number)"
   ]
  },
  {
   "cell_type": "code",
   "execution_count": 14,
   "metadata": {},
   "outputs": [],
   "source": [
    "def getEmailAddress(text):\n",
    "    #simple regex for email limiting the size of each component to 255 out of habit as regex's are expensive. \n",
    "    emailPattern = re.compile(r'\\s((?:\\w|\\.){1,255}@\\w{1,255}\\.\\w{1,255})')\n",
    "    email = re.findall(emailPattern, text)\n",
    "    return('Email: '+email[0].strip())"
   ]
  },
  {
   "cell_type": "code",
   "execution_count": 11,
   "metadata": {},
   "outputs": [],
   "source": [
    "'''\n",
    "I wanted to use a package like NLTK extact the names, but NLTK does not seem to work well on string data.  \n",
    "I implememted a solution using the most popular names from the 1990 census. If \n",
    "this was going to be used in the wild I would want to download a more comprehensive name corpus or train an \n",
    "ML model\n",
    "\n",
    "'''\n",
    "\n",
    "first_f = requests.get('https://www2.census.gov/topics/genealogy/1990surnames/dist.female.first?#').text\n",
    "first_m = requests.get('https://www2.census.gov/topics/genealogy/1990surnames/dist.male.first?#').text\n",
    "first = ' '.join([first_f, first_m])\n",
    "first = re.sub('\\d',' ', first)\n",
    "\n",
    "\n",
    "def getName(text):\n",
    "    tokens = text.split(' ')\n",
    "    for i,word in enumerate(tokens):\n",
    "        if (word.upper() in first):\n",
    "            name = word+' '+tokens[i+1]\n",
    "            #adding return in the loop so the function returns the first name it finds. \n",
    "            return(name)"
   ]
  },
  {
   "cell_type": "code",
   "execution_count": 18,
   "metadata": {},
   "outputs": [
    {
     "name": "stdout",
     "output_type": "stream",
     "text": [
      "Arthur Wilson\n",
      "Phone: 17035551259\n",
      "Email: awilson@abctech.com\n"
     ]
    }
   ],
   "source": [
    "def getContactInfo(text):\n",
    "    print(getName(text))\n",
    "    print(getPhoneNumber(text))\n",
    "    print(getEmailAddress(text)) \n",
    "\n",
    "getContactInfo(text3)"
   ]
  },
  {
   "cell_type": "markdown",
   "metadata": {},
   "source": [
    "# Code With Widget"
   ]
  },
  {
   "cell_type": "code",
   "execution_count": 19,
   "metadata": {},
   "outputs": [],
   "source": [
    "import ipywidgets as wi\n",
    "import nltk\n",
    "import re"
   ]
  },
  {
   "cell_type": "code",
   "execution_count": 25,
   "metadata": {},
   "outputs": [
    {
     "data": {
      "application/vnd.jupyter.widget-view+json": {
       "model_id": "4922ce3a8298443db9c1135b90272d7b",
       "version_major": 2,
       "version_minor": 0
      },
      "text/plain": [
       "Textarea(value='', description='Enter results from OCR here:', layout=Layout(height='150px', width='70%'), sty…"
      ]
     },
     "metadata": {},
     "output_type": "display_data"
    }
   ],
   "source": [
    "style = {'description_width': 'initial'}\n",
    "ocr = wi.Textarea(description='Enter results from OCR here:',\n",
    "                   layout=wi.Layout(width='70%', height='150px'),\n",
    "                   style= style)\n",
    "ocr"
   ]
  },
  {
   "cell_type": "code",
   "execution_count": 32,
   "metadata": {},
   "outputs": [],
   "source": [
    "text = ocr.value"
   ]
  },
  {
   "cell_type": "code",
   "execution_count": 33,
   "metadata": {},
   "outputs": [],
   "source": [
    "def parse_person(line):\n",
    "    names = []\n",
    "    #using the NTLK parts of speach model to check for people.\n",
    "    for i, chunk in enumerate(nltk.ne_chunk(nltk.pos_tag(nltk.word_tokenize(line)))):\n",
    "        if type(chunk) == nltk.tree.Tree:\n",
    "            if chunk.label() == 'PERSON':\n",
    "                names.append(chunk[0][0])\n",
    "    '''\n",
    "    The above code works great for english names.  However it struggled to identify the non-anglo surname 'Haung'\n",
    "    therefore I added this code to grab the second word after an NLTK identified person.  \n",
    "    to solve the non-anglo problem effecently you would want to retrain a word net underling NLTK to include \n",
    "    a more comprehensive list of global names. \n",
    "    \n",
    "    A potential bug in this code is that it would extract a company such as \"Kellys Carpets\" as a name.\n",
    "    '''\n",
    "    if len(names)==1:\n",
    "        names.append(line.split(' ')[i])\n",
    "    return ' '.join(names)\n",
    "        \n",
    "def getName(text):\n",
    "    text = text.split('\\n')\n",
    "    for line in text:\n",
    "        person = parse_person(line)\n",
    "        if person:\n",
    "            return('Name: '+person)    \n",
    "        \n",
    "def getPhoneNumber(text):\n",
    "    #removing the newline character to allow for the functions to be used in both the GUI and non-GUI code\n",
    "    text = text.replace('\\n','')\n",
    "    #Writing regex to grab the first 5 characters before the phone number to ensure we do not grab a fax number\n",
    "    phone_pattern = re.compile(r'((?:.{5})(?:\\+1\\s)?[\\(]?\\d{3}[\\)|-]\\s?\\d{3}[-|\\s]\\d{4})')\n",
    "    #matching the pattern and grabbing the second capture group which is the number\n",
    "    number =re.findall(phone_pattern, text)\n",
    "    #only selecting the numbers that are not labeled as a fax.\n",
    "    number = [x[5:] for x in number if 'Fax' not in x][0]\n",
    "    #cleaning the number by removing any non-digits\n",
    "    number = re.sub(r'\\D','',number)\n",
    "    return('Phone: '+number)\n",
    "\n",
    "\n",
    "def getEmail(text):\n",
    "    #removing the newline character to allow for the functions to be used in both the GUI and non-GUI code\n",
    "    text = text.replace('\\n',' ')\n",
    "    #simple regex for email limiting the size of each component to 255 out of habit as regex's are expensive. \n",
    "    emailPattern = re.compile(r'\\s((?:\\w|\\.){1,255}@\\w{1,255}\\.\\w{1,255})')\n",
    "    email = re.findall(emailPattern, text)\n",
    "    \n",
    "    return('Email: '+email[0].strip())"
   ]
  },
  {
   "cell_type": "code",
   "execution_count": 34,
   "metadata": {},
   "outputs": [
    {
     "name": "stdout",
     "output_type": "stream",
     "text": [
      "Name: Arthur Wilson\n",
      "Phone: 17035551259\n",
      "Email: awilson@abctech.com\n"
     ]
    }
   ],
   "source": [
    "print(getName(text))\n",
    "print(getPhoneNumber(text))\n",
    "print(getEmail(text))"
   ]
  },
  {
   "cell_type": "code",
   "execution_count": null,
   "metadata": {},
   "outputs": [],
   "source": []
  }
 ],
 "metadata": {
  "kernelspec": {
   "display_name": "Python 3",
   "language": "python",
   "name": "python3"
  },
  "language_info": {
   "codemirror_mode": {
    "name": "ipython",
    "version": 3
   },
   "file_extension": ".py",
   "mimetype": "text/x-python",
   "name": "python",
   "nbconvert_exporter": "python",
   "pygments_lexer": "ipython3",
   "version": "3.7.1"
  }
 },
 "nbformat": 4,
 "nbformat_minor": 2
}
